{
 "cells": [
  {
   "cell_type": "code",
   "execution_count": 1,
   "metadata": {},
   "outputs": [
    {
     "name": "stderr",
     "output_type": "stream",
     "text": [
      "Using TensorFlow backend.\n"
     ]
    }
   ],
   "source": [
    "import numpy as np\n",
    "from keras import layers\n",
    "from keras.layers import Input,Dense,Activation,ZeroPadding2D,BatchNormalization,Flatten,Conv2D\n",
    "from keras.layers import AveragePooling2D,MaxPooling2D,Dropout,GlobalMaxPooling2D,GlobalAveragePooling2D\n",
    "from keras.utils import np_utils,print_summary\n",
    "import pandas as pd\n",
    "from keras.models import Sequential\n",
    "from keras.callbacks import ModelCheckpoint\n",
    "import keras.backend as K"
   ]
  },
  {
   "cell_type": "code",
   "execution_count": 3,
   "metadata": {},
   "outputs": [
    {
     "name": "stdout",
     "output_type": "stream",
     "text": [
      "(70000, 1024)\n"
     ]
    }
   ],
   "source": [
    "data=pd.read_csv(\"/home/awis/Desktop/ML/data_sets/data.csv\")\n",
    "dataset=np.array(data)\n",
    "np.random.shuffle(dataset)\n",
    "x=dataset\n",
    "y=dataset\n",
    "x=x[:, 0:1024]\n",
    "y=y[:, 1024]\n",
    "\n",
    "x_train=x[0:70000, :]\n",
    "x_train=x_train/255.\n",
    "x_test=x[70000:72001, :]\n",
    "x_test=x_test/255.\n",
    "print(x_train.shape)\n",
    "# Reshape\n",
    "y=y.reshape(y.shape[0],1)\n",
    "y_train=y[0:70000, :]\n",
    "y_train=y_train.T\n",
    "y_test=y[70000:72001, :]\n",
    "y_test=y_test.T\n",
    "\n",
    "#print(y.shape)\n",
    "#print(y_train.shape)\n",
    "#print(y_test.shape)"
   ]
  },
  {
   "cell_type": "code",
   "execution_count": 4,
   "metadata": {},
   "outputs": [
    {
     "name": "stdout",
     "output_type": "stream",
     "text": [
      "Number of training examples = 70000\n",
      "Number of test samples = 2000\n",
      "x_train shape: (70000, 1024)\n",
      "y_train shape: (1, 70000)\n",
      "x_test shape: (2000, 1024)\n",
      "y_test shape: (1, 2000)\n"
     ]
    }
   ],
   "source": [
    "print(\"Number of training examples = \"+str(x_train.shape[0]))\n",
    "print(\"Number of test samples = \" + str(x_test.shape[0]))\n",
    "print(\"x_train shape: \"+ str(x_train.shape))\n",
    "print(\"y_train shape: \"+ str(y_train.shape))\n",
    "print(\"x_test shape: \"+ str(x_test.shape))\n",
    "print(\"y_test shape: \"+ str(y_test.shape))"
   ]
  },
  {
   "cell_type": "code",
   "execution_count": 5,
   "metadata": {},
   "outputs": [],
   "source": [
    "image_x=32\n",
    "image_y=32\n",
    "\n",
    "train_y=np_utils.to_categorical(y_train) # feature vector conversion\n",
    "test_y=np_utils.to_categorical(y_test)   # feature vector conversion\n",
    "#print(train_y)\n",
    "#print(train_y.shape)\n",
    "train_y=train_y.reshape(train_y.shape[1],train_y.shape[2])\n",
    "test_y=test_y.reshape(test_y.shape[1],test_y.shape[2])\n",
    "x_train=x_train.reshape(x_train.shape[0],image_x,image_y, 1)\n",
    "x_test=x_test.reshape(x_test.shape[0],image_x,image_y, 1)"
   ]
  },
  {
   "cell_type": "code",
   "execution_count": 6,
   "metadata": {},
   "outputs": [
    {
     "name": "stdout",
     "output_type": "stream",
     "text": [
      "X_train shape: (70000, 32, 32, 1)\n",
      "Y_train shape: (70000, 37)\n"
     ]
    }
   ],
   "source": [
    "print(\"X_train shape: \" + str(x_train.shape))\n",
    "print(\"Y_train shape: \" + str(train_y.shape))"
   ]
  },
  {
   "cell_type": "code",
   "execution_count": 7,
   "metadata": {},
   "outputs": [],
   "source": [
    "def keras_model(image_x,image_y):\n",
    "    num_of_classes = 37\n",
    "    model = Sequential() #sequential model\n",
    "    model.add(Conv2D(filters=32, kernel_size=(5, 5), input_shape=(image_x, image_y, 1), activation='relu'))\n",
    "    model.add(MaxPooling2D(pool_size=(2, 2), strides=(2, 2), padding='same'))\n",
    "    model.add(Conv2D(64, (5, 5), activation='relu'))\n",
    "    model.add(MaxPooling2D(pool_size=(5, 5), strides=(5, 5), padding='same'))\n",
    "    model.add(Flatten())\n",
    "    model.add(Dense(num_of_classes, activation='softmax'))\n",
    "    model.compile(loss='categorical_crossentropy', optimizer='adam', metrics=['accuracy'])\n",
    "    filepath = \"devanagari.h5\"\n",
    "    checkpoint1 = ModelCheckpoint(filepath, monitor='val_accuracy', verbose=1, save_best_only=True, mode='max')\n",
    "    callbacks_list = [checkpoint1]\n",
    "\n",
    "    return model, callbacks_list"
   ]
  },
  {
   "cell_type": "code",
   "execution_count": 8,
   "metadata": {},
   "outputs": [
    {
     "name": "stdout",
     "output_type": "stream",
     "text": [
      "Train on 70000 samples, validate on 2000 samples\n",
      "Epoch 1/8\n",
      "70000/70000 [==============================] - 113s 2ms/step - loss: 0.7758 - accuracy: 0.7794 - val_loss: 0.3293 - val_accuracy: 0.9005\n",
      "\n",
      "Epoch 00001: val_accuracy improved from -inf to 0.90050, saving model to devanagari.h5\n",
      "Epoch 2/8\n",
      "70000/70000 [==============================] - 116s 2ms/step - loss: 0.2331 - accuracy: 0.9290 - val_loss: 0.1999 - val_accuracy: 0.9445\n",
      "\n",
      "Epoch 00002: val_accuracy improved from 0.90050 to 0.94450, saving model to devanagari.h5\n",
      "Epoch 3/8\n",
      "70000/70000 [==============================] - 114s 2ms/step - loss: 0.1505 - accuracy: 0.9543 - val_loss: 0.1511 - val_accuracy: 0.9540\n",
      "\n",
      "Epoch 00003: val_accuracy improved from 0.94450 to 0.95400, saving model to devanagari.h5\n",
      "Epoch 4/8\n",
      "70000/70000 [==============================] - 116s 2ms/step - loss: 0.1121 - accuracy: 0.9656 - val_loss: 0.1317 - val_accuracy: 0.9650\n",
      "\n",
      "Epoch 00004: val_accuracy improved from 0.95400 to 0.96500, saving model to devanagari.h5\n",
      "Epoch 5/8\n",
      "70000/70000 [==============================] - 116s 2ms/step - loss: 0.0879 - accuracy: 0.9729 - val_loss: 0.1181 - val_accuracy: 0.9675\n",
      "\n",
      "Epoch 00005: val_accuracy improved from 0.96500 to 0.96750, saving model to devanagari.h5\n",
      "Epoch 6/8\n",
      "70000/70000 [==============================] - 117s 2ms/step - loss: 0.0719 - accuracy: 0.9775 - val_loss: 0.0975 - val_accuracy: 0.9695\n",
      "\n",
      "Epoch 00006: val_accuracy improved from 0.96750 to 0.96950, saving model to devanagari.h5\n",
      "Epoch 7/8\n",
      "70000/70000 [==============================] - 118s 2ms/step - loss: 0.0571 - accuracy: 0.9816 - val_loss: 0.1060 - val_accuracy: 0.9675\n",
      "\n",
      "Epoch 00007: val_accuracy did not improve from 0.96950\n",
      "Epoch 8/8\n",
      "70000/70000 [==============================] - 117s 2ms/step - loss: 0.0485 - accuracy: 0.9842 - val_loss: 0.1186 - val_accuracy: 0.9585\n",
      "\n",
      "Epoch 00008: val_accuracy did not improve from 0.96950\n",
      "CNN Error: 4.15%\n",
      "Model: \"sequential_1\"\n",
      "_________________________________________________________________\n",
      "Layer (type)                 Output Shape              Param #   \n",
      "=================================================================\n",
      "conv2d_1 (Conv2D)            (None, 28, 28, 32)        832       \n",
      "_________________________________________________________________\n",
      "max_pooling2d_1 (MaxPooling2 (None, 14, 14, 32)        0         \n",
      "_________________________________________________________________\n",
      "conv2d_2 (Conv2D)            (None, 10, 10, 64)        51264     \n",
      "_________________________________________________________________\n",
      "max_pooling2d_2 (MaxPooling2 (None, 2, 2, 64)          0         \n",
      "_________________________________________________________________\n",
      "flatten_1 (Flatten)          (None, 256)               0         \n",
      "_________________________________________________________________\n",
      "dense_1 (Dense)              (None, 37)                9509      \n",
      "=================================================================\n",
      "Total params: 61,605\n",
      "Trainable params: 61,605\n",
      "Non-trainable params: 0\n",
      "_________________________________________________________________\n"
     ]
    }
   ],
   "source": [
    "model, callbacks_list = keras_model(image_x, image_y)\n",
    "model.fit(x_train, train_y, validation_data=(x_test, test_y), epochs=8, batch_size=64,callbacks=callbacks_list)\n",
    "scores = model.evaluate(x_test, test_y, verbose=0)\n",
    "print(\"CNN Error: %.2f%%\" % (100 - scores[1] * 100))\n",
    "print_summary(model)\n",
    "model.save('devanagari.h5')"
   ]
  },
  {
   "cell_type": "code",
   "execution_count": null,
   "metadata": {},
   "outputs": [],
   "source": []
  }
 ],
 "metadata": {
  "kernelspec": {
   "display_name": "Python 3",
   "language": "python",
   "name": "python3"
  },
  "language_info": {
   "codemirror_mode": {
    "name": "ipython",
    "version": 3
   },
   "file_extension": ".py",
   "mimetype": "text/x-python",
   "name": "python",
   "nbconvert_exporter": "python",
   "pygments_lexer": "ipython3",
   "version": "3.7.7"
  }
 },
 "nbformat": 4,
 "nbformat_minor": 4
}
